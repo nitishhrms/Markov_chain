{
 "cells": [
  {
   "cell_type": "code",
   "execution_count": 1,
   "metadata": {},
   "outputs": [],
   "source": [
    "import numpy as np\n",
    "import nltk\n",
    "import pandas as pd\n",
    "import numpy as np"
   ]
  },
  {
   "cell_type": "code",
   "execution_count": 2,
   "metadata": {},
   "outputs": [],
   "source": [
    "def generateTable(data,k=4):\n",
    "    #forming empty dictionary\n",
    "        T={}\n",
    "        for i in range(len(data)-k):\n",
    "            X=data[i:i+k]\n",
    "            Y=data[i+k]\n",
    "            #print(\"X is %s and Y is %s \"%(X,Y))\n",
    "            if T.get(X) is None:\n",
    "        ##mapping empty dictionary to the X word\n",
    "                T[X]={}\n",
    "         ##mapping new word frequency with 1     \n",
    "                T[X][Y]=1\n",
    "        ##handling other casses\n",
    "            else:\n",
    "                if T[X].get(Y) is None:\n",
    "                    ##from this case remember o and i case in hell\n",
    "                    T[X][Y]=1\n",
    "                else:\n",
    "                    ##from this case remember the o repeated twice\n",
    "                    T[X][Y]+=1\n",
    "    #iterating over the first word in dictionary\n",
    "        for ix in T.keys():\n",
    "            s=float(sum(T[ix].values()))\n",
    "            for jx in T[ix].keys():\n",
    "                T[ix][jx]=T[ix][jx]/s    \n",
    "        return T    \n",
    "                    "
   ]
  },
  {
   "cell_type": "code",
   "execution_count": 3,
   "metadata": {},
   "outputs": [],
   "source": [
    "T=generateTable(\"Hello Helli World\")"
   ]
  },
  {
   "cell_type": "code",
   "execution_count": 4,
   "metadata": {},
   "outputs": [
    {
     "name": "stdout",
     "output_type": "stream",
     "text": [
      "apna time aayega\r\n",
      "uth ja apni raakh se\r\n",
      "tu udd ja ab talaash mein\r\n",
      "parwaaz dekh parwane ki\r\n",
      "aasman bhi sar uthayega\r\n",
      "aayega apna time aayega\r\n",
      "mere jaisa shaana lala\r\n",
      "tujhe na mil payega\r\n",
      " \r\n",
      "yeh shabdon ka jwala\r\n",
      "meri bediyan pighlayega\r\n",
      "jitna toone boya hai tu\r\n",
      "utna hi to khaayega\r\n",
      "aisa mera khwaab hai\r\n",
      "jo darr ko bhi satayega\r\n",
      "zinda mera khwaab\r\n",
      "ab kaise tu dafnayega\r\n",
      " \r\n",
      "ab hausle se jeene de\r\n",
      "ab khauf nahi hai seene mein\r\n",
      "har raaste ko cheerenge\r\n",
      "hum kaamyabi chheenenge\r\n",
      "sab kuchh mila paseene se\r\n",
      "matlab bana ab jeene mein\r\n",
      " \r\n",
      "kyon\r\n",
      "kyon ki apna time aayega\r\n",
      " \r\n",
      "tu nanga hi to aaya hai\r\n",
      "kya ghanta lekar jaayega\r\n",
      "apna time aayega\r\n",
      "apna time aayega\r\n",
      "apna time aayega x (2)\r\n",
      " \r\n",
      "tu nanga hi to aaya hai\r\n",
      "kya ghanta lekar..\r\n",
      " \r\n",
      "kissi ka hath nahi tha sar par\r\n",
      "yahaan par aaya khud ki mehnat se main\r\n",
      "jitni taakat kismat mein nahi\r\n",
      "utni rehmat mein hai\r\n",
      "phir bhi ladka sehmat nahin hai\r\n",
      "kyon ki hairat nahi hai\r\n",
      "zaroorat yahaan marzi ki\r\n",
      "aur jurrat ki hai\r\n",
      " \r\n",
      "taakat ki hai, aafat ki\r\n",
      "himaakat ki, ibaadat ki\r\n",
      "adalat yeh hai chahat ki\r\n",
      "mohobbat ki, amaanat ki\r\n",
      "jeetne ki ab aadat ki hai\r\n",
      "shohrat ki ab laalach nai hai\r\n",
      "tere bhai jaisa koyi hard’ch nai hai\r\n",
      " \r\n",
      "iss harkat ne hi barkat di hai\r\n",
      "kyon?\r\n",
      " \r\n",
      "tu nanga hi to aaya hai\r\n",
      "kya ghanta lekar jaayega\r\n",
      "apna time aayega\r\n",
      "apna time aayega\r\n",
      "apna time aayega\r\n",
      " \r\n",
      "tu nanga hi to aaya hai\r\n",
      "kya ghanta lekar jaayega\r\n",
      "kya tu ghanta lekar jaayega\r\n",
      "apna time aayega\r\n",
      "apna time aayega\n"
     ]
    }
   ],
   "source": [
    "text_path=\"/home/nitish/Downloads/Apna Time Aayega.txt\"\n",
    "import io\n",
    "def load_text(filename):\n",
    "    with open(filename) as f:\n",
    "        return f.read().lower()\n",
    "text=load_text(text_path)\n",
    "print(text)"
   ]
  },
  {
   "cell_type": "code",
   "execution_count": 5,
   "metadata": {},
   "outputs": [],
   "source": [
    "text=text.replace('\\r',\" \")"
   ]
  },
  {
   "cell_type": "code",
   "execution_count": 6,
   "metadata": {},
   "outputs": [],
   "source": [
    "model=generateTable(text)\n",
    "#model1=getfreqIntoprob(model)"
   ]
  },
  {
   "cell_type": "code",
   "execution_count": 7,
   "metadata": {},
   "outputs": [
    {
     "name": "stdout",
     "output_type": "stream",
     "text": [
      "{'tna ': {'h': 0.5, 't': 0.5}, ' na ': {'m': 1.0}, '(2) ': {'\\n': 1.0}, 'lach': {' ': 1.0}, ' koy': {'i': 1.0}, 'zind': {'a': 1.0}, ' gha': {'n': 1.0}, ' dek': {'h': 1.0}, 'mila': {' ': 1.0}, 'jo d': {'a': 1.0}, 's ha': {'r': 1.0}, ' \\nzi': {'n': 1.0}, ' \\nza': {'r': 1.0}, 'ai, ': {'a': 1.0}, 'b ba': {'n': 1.0}, 'ana ': {'a': 0.5, 'l': 0.5}, 'dekh': {' ': 1.0}, 'le s': {'e': 1.0}, ' nan': {'g': 1.0}, ' nai': {' ': 1.0}, ' nah': {'i': 1.0}, ' \\nut': {'h': 0.3333333333333333, 'n': 0.6666666666666666}, 'maan': {'a': 1.0}, 'mil ': {'p': 1.0}, 'aaya': {' ': 1.0}, 'hat ': {'k': 1.0}, 'th j': {'a': 1.0}, 'aaye': {'g': 1.0}, 'th n': {'a': 1.0}, ' de ': {'\\n': 1.0}, 'utni': {' ': 1.0}, 'ne b': {'o': 1.0}, 't ye': {'h': 1.0}, 'ne d': {'e': 1.0}, 'ne k': {'i': 1.0}, 'r ju': {'r': 1.0}, ' \\nha': {'r': 1.0}, 'ne m': {'e': 1.0}, 'ne s': {'e': 1.0}, 'l pa': {'y': 1.0}, 'ohra': {'t': 1.0}, 'etne': {' ': 1.0}, 'hum ': {'k': 1.0}, 'r ja': {'a': 1.0}, 'de \\n': {'a': 1.0}, 'pase': {'e': 1.0}, 'haay': {'e': 1.0}, ' ab ': {'a': 0.25, 'j': 0.25, 't': 0.25, 'l': 0.25}, ' mil': {'a': 0.5, ' ': 0.5}, 'chee': {'r': 1.0}, 'haan': {'a': 0.3333333333333333, ' ': 0.6666666666666666}, 'o aa': {'y': 1.0}, 'oora': {'t': 1.0}, ' jwa': {'l': 1.0}, 'a \\nm': {'e': 1.0}, '  \\ny': {'e': 1.0}, 'a \\nk': {'y': 1.0}, 'a \\nj': {'i': 1.0}, 'an m': {'a': 1.0}, 'a \\na': {'a': 0.1, 'i': 0.1, 'p': 0.8}, 'hud ': {'k': 1.0}, '  \\nt': {'a': 0.2, 'u': 0.8}, '  \\nk': {'y': 0.5, 'i': 0.5}, '  \\ni': {'s': 1.0}, 'a \\nz': {'i': 1.0}, 'a \\nu': {'t': 1.0}, 'a \\nt': {'u': 1.0}, '  \\na': {'b': 1.0}, 'nta ': {'l': 1.0}, 'i re': {'h': 1.0}, 'e bh': {'a': 1.0}, 'nge ': {'\\n': 1.0}, 'e bo': {'y': 1.0}, 'neng': {'e': 1.0}, 'jurr': {'a': 1.0}, 'jhe ': {'n': 1.0}, 'rat ': {'y': 0.25, 'k': 0.5, 'n': 0.25}, 'ko b': {'h': 1.0}, 'ko c': {'h': 1.0}, 'aala': {'c': 1.0}, 'nai ': {'h': 1.0}, 'irat': {' ': 1.0}, 'ssi ': {'k': 1.0}, '\\xe2\\x80\\x99c': {'h': 1.0}, 't me': {'i': 1.0}, 'rrat': {' ': 1.0}, 'a \\n ': {' ': 1.0}, ' \\nky': {'a': 0.5555555555555556, 'o': 0.4444444444444444}, 'kya ': {'t': 0.2, 'g': 0.8}, 'hir ': {'b': 1.0}, 'hath': {' ': 1.0}, 'ab h': {'a': 1.0}, 'ab k': {'a': 0.3333333333333333, 'h': 0.3333333333333333, 'u': 0.3333333333333333}, 'ab j': {'e': 1.0}, ' ne ': {'h': 1.0}, 'ab a': {'a': 1.0}, ', aa': {'f': 1.0}, ' ko ': {'c': 0.5, 'b': 0.5}, 'isa ': {'s': 0.3333333333333333, 'm': 0.3333333333333333, 'k': 0.3333333333333333}, 'ab t': {'a': 1.0}, 'udd ': {'j': 1.0}, 'sman': {' ': 1.0}, ' kuc': {'h': 1.0}, ' \\nki': {'s': 1.0}, 'khaa': {'y': 1.0}, 'b \\na': {'b': 1.0}, '\\njit': {'n': 1.0}, ' taa': {'k': 1.0}, ' apn': {'i': 0.3333333333333333, 'a': 0.6666666666666666}, ') \\n ': {' ': 1.0}, 'ar \\n': {'y': 1.0}, 'enge': {' ': 1.0}, 'utna': {' ': 1.0}, 'sab ': {'k': 1.0}, 'khau': {'f': 1.0}, '\\nphi': {'r': 1.0}, 're j': {'a': 1.0}, 'yaha': {'a': 1.0}, 'ar u': {'t': 1.0}, 'i ra': {'a': 1.0}, 'ar p': {'a': 1.0}, 'ar r': {'a': 1.0}, 'aaz ': {'d': 1.0}, ' yah': {'a': 1.0}, 'ne h': {'i': 1.0}, '\\x99ch ': {'n': 1.0}, 'ar j': {'a': 1.0}, 'il p': {'a': 1.0}, 'ar a': {'a': 1.0}, 'ard\\xe2': {'\\x80': 1.0}, 'ab \\n': {'a': 1.0}, 'dafn': {'a': 1.0}, 'hlay': {'e': 1.0}, 'bhi ': {'s': 0.6666666666666666, 'l': 0.3333333333333333}, ' \\nhi': {'m': 1.0}, 'obba': {'t': 1.0}, ' \\nhu': {'m': 1.0}, 'ge \\n': {'h': 0.5, 's': 0.5}, 'roor': {'a': 1.0}, ' tu ': {'\\n': 0.3333333333333333, 'd': 0.3333333333333333, 'g': 0.3333333333333333}, 'mehn': {'a': 1.0}, 'e aa': {'y': 1.0}, 'na a': {'b': 1.0}, 'wane': {' ': 1.0}, 'na m': {'i': 1.0}, 'na l': {'a': 1.0}, 'na h': {'i': 1.0}, 'na t': {'i': 0.9166666666666666, 'o': 0.08333333333333333}, 'a jw': {'a': 1.0}, 'dat ': {'k': 1.0}, 'e ja': {'i': 1.0}, ' ka ': {'h': 0.5, 'j': 0.5}, 'iss ': {'h': 1.0}, 'sata': {'y': 1.0}, 'asma': {'n': 1.0}, 'arzi': {' ': 1.0}, 'a x ': {'(': 1.0}, 'e je': {'e': 1.0}, ' sar': {' ': 1.0}, 'si k': {'a': 1.0}, 'khwa': {'a': 1.0}, 'taye': {'g': 1.0}, 'i ab': {' ': 1.0}, 'pigh': {'l': 1.0}, ' jee': {'n': 1.0}, 'atay': {'e': 1.0}, '\\nsab': {' ': 1.0}, 'ta l': {'e': 1.0}, 'nga ': {'h': 1.0}, 'b ta': {'l': 1.0}, 'abdo': {'n': 1.0}, 'tu n': {'a': 1.0}, ' daf': {'n': 1.0}, 'jais': {'a': 1.0}, 'issi': {' ': 1.0}, ' kai': {'s': 1.0}, 'u da': {'f': 1.0}, 'aast': {'e': 1.0}, ' dar': {'r': 1.0}, 'aash': {' ': 1.0}, 'tala': {'a': 1.0}, 'aasm': {'a': 1.0}, 'hwaa': {'b': 1.0}, 'maak': {'a': 1.0}, 'n pi': {'g': 1.0}, 'b je': {'e': 1.0}, '\\njee': {'t': 1.0}, '\\nais': {'a': 1.0}, 'hrat': {' ': 1.0}, 'n pa': {'r': 1.0}, 'kat ': {'k': 0.6, 'd': 0.2, 'n': 0.2}, 'yi h': {'a': 1.0}, 'ise ': {'t': 1.0}, 'ehna': {'t': 1.0}, 'enen': {'g': 1.0}, 'tni ': {'r': 0.5, 't': 0.5}, 'abi ': {'c': 1.0}, 'utha': {'y': 1.0}, 'di h': {'a': 1.0}, 'b la': {'a': 1.0}, ' yeh': {' ': 1.0}, 't di': {' ': 1.0}, 'r ko': {' ': 1.0}, 'hohr': {'a': 1.0}, 'e \\ns': {'a': 1.0}, '\\npar': {'w': 1.0}, 'main': {' ': 1.0}, 'baad': {'a': 1.0}, 'aafa': {'t': 1.0}, 'kism': {'a': 1.0}, 'bhai': {' ': 1.0}, 'o da': {'r': 1.0}, 'anat': {' ': 1.0}, 'he n': {'a': 1.0}, 'n ki': {' ': 1.0}, 'bana': {' ': 1.0}, 'r ra': {'a': 1.0}, 'ene ': {'s': 0.25, 'm': 0.5, 'd': 0.25}, ' \\nme': {'r': 1.0}, 'n ka': {' ': 1.0}, ' \\nma': {'t': 1.0}, 'uth ': {'j': 1.0}, 'e hi': {' ': 1.0}, 'ediy': {'a': 1.0}, 'tere': {' ': 1.0}, ' udd': {' ': 1.0}, 'r ut': {'h': 1.0}, 'n bh': {'i': 1.0}, ' \\nte': {'r': 1.0}, ' \\n  ': {'\\n': 1.0}, 'lab ': {'b': 1.0}, ' aaf': {'a': 1.0}, 'dd j': {'a': 1.0}, 'diya': {'n': 1.0}, ' lek': {'a': 1.0}, 'hard': {'\\xe2': 1.0}, 'i ha': {'i': 0.9, 'r': 0.1}, '\\nmat': {'l': 1.0}, ' ja ': {'a': 1.0}, ' aay': {'a': 0.3125, 'e': 0.6875}, ' to ': {'a': 0.8, 'k': 0.2}, 'tu \\n': {'u': 1.0}, 'waab': {' ': 1.0}, 'a gh': {'a': 1.0}, 'ekar': {' ': 0.8, '.': 0.2}, 't na': {'h': 1.0}, 't ne': {' ': 1.0}, 'ri b': {'e': 1.0}, 'ch n': {'a': 1.0}, 'waaz': {' ': 1.0}, 'matl': {'a': 1.0}, 'to k': {'h': 1.0}, '\\niss': {' ': 1.0}, 'kyon': {' ': 0.75, '?': 0.25}, 'sle ': {'s': 1.0}, '\\napn': {'a': 1.0}, 'to a': {'a': 1.0}, 'har ': {'r': 1.0}, ' jai': {'s': 1.0}, ' too': {'n': 1.0}, 'ghla': {'y': 1.0}, ' jaa': {'y': 1.0}, 'ur j': {'u': 1.0}, 'isma': {'t': 1.0}, 'tu u': {'d': 1.0}, 'anga': {' ': 1.0}, ' kaa': {'m': 1.0}, 'ka h': {'a': 1.0}, 'ka j': {'w': 1.0}, 'tu d': {'a': 1.0}, 'tu g': {'h': 1.0}, 'mat ': {'m': 0.6666666666666666, 'n': 0.3333333333333333}, 'ka s': {'e': 1.0}, 'eetn': {'e': 1.0}, 'e se': {' ': 1.0}, 'i me': {'h': 1.0}, 'ala ': {'\\n': 1.0}, 'i, i': {'b': 1.0}, 'jwal': {'a': 1.0}, 'par ': {'a': 0.5, '\\n': 0.5}, 'aab ': {'h': 0.5, '\\n': 0.5}, 'i, a': {'a': 0.5, 'm': 0.5}, 'se t': {'u': 1.0}, 'se j': {'e': 1.0}, 'tha ': {'s': 1.0}, 'se m': {'a': 1.0}, 're b': {'h': 1.0}, 'aira': {'t': 1.0}, 'rwaa': {'z': 1.0}, 'n ma': {'r': 1.0}, 'rwan': {'e': 1.0}, ' \\nis': {'s': 1.0}, 'ai \\n': {' ': 0.15384615384615385, 'k': 0.46153846153846156, 'j': 0.07692307692307693, 'p': 0.07692307692307693, 's': 0.07692307692307693, 't': 0.07692307692307693, 'z': 0.07692307692307693}, 'at k': {'i': 1.0}, 'alaa': {'s': 1.0}, 'yon ': {'k': 0.6666666666666666, '\\n': 0.3333333333333333}, 'alac': {'h': 1.0}, ' pas': {'e': 1.0}, ' par': {' ': 0.6666666666666666, 'w': 0.3333333333333333}, 'at m': {'e': 1.0}, 'toon': {'e': 1.0}, 'thay': {'e': 1.0}, 'ai s': {'e': 1.0}, 'te k': {'o': 1.0}, 'at d': {'i': 1.0}, 'parw': {'a': 1.0}, 'don ': {'k': 1.0}, 'at y': {'a': 0.5, 'e': 0.5}, 'alat': {' ': 1.0}, 'nahi': {' ': 0.8, 'n': 0.2}, 'at s': {'e': 1.0}, 'akat': {' ': 1.0}, 'ai c': {'h': 1.0}, '\\nzin': {'d': 1.0}, 'an p': {'i': 0.5, 'a': 0.5}, '\\nhum': {' ': 1.0}, 'se \\n': {'m': 0.5, 't': 0.5}, 'an b': {'h': 1.0}, 'haye': {'g': 1.0}, 'u ud': {'d': 1.0}, '\\nab ': {'h': 0.3333333333333333, 'k': 0.6666666666666666}, 'e de': {' ': 1.0}, 'aamy': {'a': 1.0}, '.. \\n': {' ': 1.0}, '\\nmer': {'i': 0.5, 'e': 0.5}, 'reng': {'e': 1.0}, 'ekh ': {'p': 1.0}, 'ya t': {'u': 1.0}, 'i la': {'d': 1.0}, '\\nkis': {'s': 1.0}, 'ya h': {'a': 1.0}, 'seen': {'e': 1.0}, 'u na': {'n': 1.0}, 'hhee': {'n': 1.0}, 'at n': {'a': 0.6666666666666666, 'e': 0.3333333333333333}, 'u gh': {'a': 1.0}, 'h ha': {'i': 1.0}, 'on? ': {'\\n': 1.0}, '\\nter': {'e': 1.0}, ', ib': {'a': 1.0}, 'arka': {'t': 1.0}, 'pni ': {'r': 1.0}, ' ki,': {' ': 1.0}, '? \\n ': {' ': 1.0}, 'yan ': {'p': 1.0}, ' ki ': {'a': 0.21428571428571427, 'h': 0.2857142857142857, '\\n': 0.42857142857142855, 'm': 0.07142857142857142}, 'ai t': {'u': 1.0}, 'haha': {'t': 1.0}, ' di ': {'h': 1.0}, 'amaa': {'n': 1.0}, 'r.. ': {'\\n': 1.0}, 'jaay': {'e': 1.0}, 'ehma': {'t': 1.0}, 'a pa': {'s': 1.0}, '\\nzar': {'o': 1.0}, 'kar ': {'j': 1.0}, ' pay': {'e': 1.0}, 'ir b': {'h': 1.0}, 'kar.': {'.': 1.0}, 'raak': {'h': 1.0}, ' meh': {'n': 1.0}, ' mei': {'n': 1.0}, ' kis': {'m': 1.0}, ' mer': {'a': 1.0}, 'inda': {' ': 1.0}, 'phir': {' ': 1.0}, 'myab': {'i': 1.0}, 'dka ': {'s': 1.0}, 'ai j': {'a': 1.0}, 'raas': {'t': 1.0}, 'o ch': {'e': 1.0}, 'ai h': {'a': 1.0}, 'r aa': {'y': 1.0}, 'uf n': {'a': 1.0}, ' \\nji': {'t': 1.0}, ' bar': {'k': 1.0}, 'nang': {'a': 1.0}, ' \\njo': {' ': 1.0}, 'shoh': {'r': 1.0}, 'aan ': {'p': 0.5, 'm': 0.5}, ' \\nje': {'e': 1.0}, 'chhe': {'e': 1.0}, 'ayeg': {'a': 1.0}, 'kh p': {'a': 1.0}, 'kh s': {'e': 1.0}, 'yon?': {' ': 1.0}, 'koyi': {' ': 1.0}, ' aad': {'a': 1.0}, 'e ko': {' ': 1.0}, 'leka': {'r': 1.0}, 'e ki': {' ': 1.0}, 'a mi': {'l': 1.0}, 'mein': {' ': 1.0}, 'z de': {'k': 1.0}, 'a me': {'r': 1.0}, '\\nmoh': {'o': 1.0}, 'aana': {' ': 0.5, 't': 0.5}, 'chh ': {'m': 1.0}, 'lala': {' ': 1.0}, 'ain ': {'\\n': 1.0}, 'ha s': {'a': 1.0}, 'oyi ': {'h': 1.0}, 'laal': {'a': 1.0}, 'h mi': {'l': 1.0}, ' iba': {'a': 1.0}, 'hnat': {' ': 1.0}, ' tha': {' ': 1.0}, 'bark': {'a': 1.0}, 'laas': {'h': 1.0}, 'atla': {'b': 1.0}, 'itni': {' ': 1.0}, 'ni t': {'a': 1.0}, 'itna': {' ': 1.0}, 'ni r': {'a': 0.5, 'e': 0.5}, 'man ': {'b': 1.0}, 'rkat': {' ': 1.0}, 'n? \\n': {' ': 1.0}, 'aur ': {'j': 1.0}, 'bbat': {' ': 1.0}, '\\ntaa': {'k': 1.0}, 'jitn': {'a': 0.5, 'i': 0.5}, 'eren': {'g': 1.0}, 'sehm': {'a': 1.0}, 'aroo': {'r': 1.0}, ' \\nsa': {'b': 1.0}, 'a tu': {' ': 1.0}, 'b kh': {'a': 1.0}, ' \\nsh': {'o': 1.0}, 'h me': {'i': 1.0}, 'hobb': {'a': 1.0}, 'b ka': {'i': 1.0}, 'a ti': {'m': 1.0}, 'a to': {'o': 1.0}, 'i ch': {'a': 0.5, 'h': 0.5}, 'tujh': {'e': 1.0}, '\\naas': {'m': 1.0}, ' mar': {'z': 1.0}, 'n ha': {'i': 1.0}, '\\naay': {'e': 1.0}, 'ere ': {'j': 0.5, 'b': 0.5}, 'afat': {' ': 1.0}, '\\njo ': {'d': 1.0}, ' mai': {'n': 1.0}, 't ya': {'h': 1.0}, 'wala': {' ': 1.0}, 'a ha': {'i': 0.8333333333333334, 't': 0.16666666666666666}, ' bed': {'i': 1.0}, 'rr k': {'o': 1.0}, 'a hi': {' ': 1.0}, 'd ja': {' ': 1.0}, ' x (': {'2': 1.0}, 'usle': {' ': 1.0}, 'anta': {' ': 1.0}, 'b ku': {'c': 1.0}, ' pig': {'h': 1.0}, ' \\nap': {'n': 1.0}, ' \\nau': {'r': 1.0}, 'sa s': {'h': 1.0}, ' \\nai': {'s': 1.0}, 'sa m': {'e': 1.0}, 'in n': {'a': 1.0}, ' \\naa': {'y': 0.5, 's': 0.5}, ' \\nab': {' ': 1.0}, 'i ba': {'r': 1.0}, ' \\nad': {'a': 1.0}, 'marz': {'i': 1.0}, 'i ki': {' ': 1.0}, 'naye': {'g': 1.0}, 'i ka': {' ': 1.0}, 'a ap': {'n': 1.0}, 'ga h': {'i': 1.0}, 'in \\n': {'p': 0.25, 'j': 0.25, ' ': 0.25, 'h': 0.25}, ' reh': {'m': 1.0}, '\\nyeh': {' ': 1.0}, 'a ab': {' ': 1.0}, 'ahaa': {'n': 1.0}, ' lal': {'a': 1.0}, 'aya ': {'h': 0.8, 'k': 0.2}, 'sar ': {'p': 0.5, 'u': 0.5}, ' lad': {'k': 1.0}, 'ahat': {' ': 1.0}, 'tlab': {' ': 1.0}, 'ya k': {'h': 1.0}, 'a sh': {'a': 1.0}, 'h ja': {' ': 1.0}, 'a sa': {'r': 1.0}, ' uth': {'a': 1.0}, ', am': {'a': 1.0}, 'a se': {'h': 1.0}, ' sha': {'a': 0.5, 'b': 0.5}, 'ya g': {'h': 1.0}, 'ki, ': {'i': 0.5, 'a': 0.5}, 'nda ': {'m': 1.0}, ' khw': {'a': 1.0}, ' khu': {'d': 1.0}, 'ujhe': {' ': 1.0}, '\\nada': {'l': 1.0}, ' \\ntu': {' ': 0.8333333333333334, 'j': 0.16666666666666666}, 'shab': {'d': 1.0}, 'shaa': {'n': 1.0}, ' hi ': {'b': 0.16666666666666666, 't': 0.8333333333333334}, ' sat': {'a': 1.0}, 'oone': {' ': 1.0}, ' \\nta': {'a': 1.0}, 'da m': {'e': 1.0}, ' kha': {'a': 0.5, 'u': 0.5}, '\\nhar': {' ': 1.0}, 'i th': {'a': 1.0}, 'i to': {' ': 1.0}, 'era ': {'k': 1.0}, 'i \\nt': {'e': 1.0}, 'i ta': {'a': 1.0}, '. \\n ': {' ': 1.0}, 'd\\xe2\\x80\\x99': {'c': 1.0}, 'i \\nm': {'o': 1.0}, '\\x80\\x99ch': {' ': 1.0}, 'amya': {'b': 1.0}, 'i tu': {' ': 1.0}, 'hant': {'a': 1.0}, '\\nyah': {'a': 1.0}, 'aisa': {' ': 1.0}, 'aise': {' ': 1.0}, 'eh s': {'h': 1.0}, 'kaam': {'y': 1.0}, 'e na': {' ': 1.0}, ' \\nmo': {'h': 1.0}, 'eh h': {'a': 1.0}, ' jur': {'r': 1.0}, 'hima': {'a': 1.0}, 'm ka': {'a': 1.0}, 'fat ': {'k': 1.0}, 'kiss': {'i': 1.0}, 'ab l': {'a': 1.0}, 'a la': {'l': 1.0}, 'um k': {'a': 1.0}, 'a le': {'k': 1.0}, 'ega ': {'a': 0.047619047619047616, 'x': 0.047619047619047616, '\\n': 0.9047619047619048}, 'h se': {' ': 1.0}, 'ime ': {'a': 1.0}, 'hark': {'a': 1.0}, 'on \\n': {'k': 1.0}, '2) \\n': {' ': 1.0}, 'la p': {'a': 1.0}, 'h sh': {'a': 1.0}, ' ban': {'a': 1.0}, ' raa': {'k': 0.5, 's': 0.5}, 'az d': {'e': 1.0}, 'ath ': {'n': 1.0}, 'eere': {'n': 1.0}, 'r \\ny': {'a': 1.0}, ' bhi': {' ': 1.0}, 'ga x': {' ': 1.0}, 'e \\nm': {'a': 1.0}, 'smat': {' ': 1.0}, 'taak': {'a': 1.0}, ' bha': {'i': 1.0}, 'ga a': {'p': 1.0}, 'uchh': {' ': 1.0}, 't se': {' ': 1.0}, 'rehm': {'a': 1.0}, '\\n  \\n': {'y': 0.1, 'a': 0.1, 'k': 0.2, 'i': 0.1, 't': 0.5}, ' che': {'e': 1.0}, 'e \\nt': {'u': 1.0}, ' cha': {'h': 1.0}, 'darr': {' ': 1.0}, 'khud': {' ': 1.0}, 'haus': {'l': 1.0}, 'ladk': {'a': 1.0}, ' chh': {'e': 1.0}, 'e \\na': {'b': 1.0}, 'bdon': {' ': 1.0}, 'oya ': {'h': 1.0}, 'u \\nu': {'t': 1.0}, 'hauf': {' ': 1.0}, 'e \\nh': {'u': 1.0}, 'ga \\n': {'a': 0.5263157894736842, ' ': 0.21052631578947367, 'k': 0.05263157894736842, 'j': 0.05263157894736842, 'm': 0.05263157894736842, 'u': 0.05263157894736842, 'z': 0.05263157894736842}, 'ab b': {'a': 1.0}, 'ighl': {'a': 1.0}, 'adka': {' ': 1.0}, 'heer': {'e': 1.0}, 'fnay': {'e': 1.0}, 'la \\n': {'m': 0.5, 't': 0.5}, '\\nsho': {'h': 1.0}, 'r bh': {'i': 1.0}, 'f na': {'h': 1.0}, ' ama': {'a': 1.0}, 't ki': {' ': 0.7272727272727273, 's': 0.09090909090909091, ',': 0.18181818181818182}, '\\nuth': {' ': 1.0}, 'on k': {'a': 0.3333333333333333, 'i': 0.6666666666666666}, '\\nutn': {'a': 0.5, 'i': 0.5}, 'nat ': {'s': 0.5, 'k': 0.5}, 'heen': {'e': 1.0}, 'ste ': {'k': 1.0}, 'i sa': {'r': 0.5, 't': 0.5}, ' \\nph': {'i': 1.0}, 'i se': {'e': 1.0}, 'hi t': {'h': 0.16666666666666666, 'o': 0.8333333333333334}, 'b ha': {'i': 0.5, 'u': 0.5}, 'hi s': {'a': 1.0}, ' \\npa': {'r': 1.0}, 'hair': {'a': 1.0}, 'hi l': {'a': 1.0}, 'hi h': {'a': 1.0}, 'hh m': {'i': 1.0}, 'moho': {'b': 1.0}, 'ach ': {'n': 1.0}, ' laa': {'l': 1.0}, 'hi b': {'a': 1.0}, 'e me': {'i': 1.0}, 'yeh ': {'h': 0.5, 's': 0.5}, 'ki h': {'a': 1.0}, 'e ma': {'i': 1.0}, 'ash ': {'m': 1.0}, 'ki a': {'p': 0.3333333333333333, 'b': 0.6666666666666666}, 'hin ': {'h': 1.0}, ' see': {'n': 1.0}, ' seh': {'m': 1.0}, 'ausl': {'e': 1.0}, 'lat ': {'y': 1.0}, 'hai ': {'c': 0.058823529411764705, 's': 0.058823529411764705, '\\n': 0.7647058823529411, 't': 0.058823529411764705, 'j': 0.058823529411764705}, 'o bh': {'i': 1.0}, 'aada': {'t': 1.0}, 'ki \\n': {'a': 0.5, 'h': 0.16666666666666666, 'j': 0.16666666666666666, 'm': 0.16666666666666666}, 'hai,': {' ': 1.0}, 'a ko': {'y': 1.0}, 'ja a': {'p': 0.5, 'b': 0.5}, 'r pa': {'r': 1.0}, 'rd\\xe2\\x80': {'\\x99': 1.0}, 'yabi': {' ': 1.0}, 'habd': {'o': 1.0}, 'ra k': {'h': 1.0}, 'i ap': {'n': 1.0}, 'ohob': {'b': 1.0}, 'o kh': {'a': 1.0}, 'arwa': {'a': 0.5, 'n': 0.5}, 'jeet': {'n': 1.0}, ' se ': {'\\n': 0.5, 'm': 0.25, 'j': 0.25}, 'akh ': {'s': 1.0}, 'pna ': {'t': 1.0}, 'jeen': {'e': 1.0}, 'hi \\n': {'u': 1.0}, 'bi c': {'h': 1.0}, 'yega': {' ': 1.0}, 'ibaa': {'d': 1.0}, 'ghan': {'t': 1.0}, 'aste': {' ': 1.0}, 'meri': {' ': 1.0}, ' (2)': {' ': 1.0}, 'i ja': {'i': 1.0}, 'mera': {' ': 1.0}, 'ud k': {'i': 1.0}, 'mere': {' ': 1.0}, 'paye': {'g': 1.0}, 'ane ': {'k': 1.0}, ' boy': {'a': 1.0}, 'in h': {'a': 1.0}, 'urra': {'t': 1.0}, '\\naur': {' ': 1.0}, 'sh m': {'e': 1.0}, 'eene': {' ': 0.8, 'n': 0.2}, 'asee': {'n': 1.0}, 'e tu': {' ': 1.0}, 'ahi ': {'h': 0.5, '\\n': 0.25, 't': 0.25}, 'tne ': {'k': 1.0}, 'boya': {' ': 1.0}, 'afna': {'y': 1.0}, 'bat ': {'k': 1.0}, 'sa k': {'o': 1.0}, 'ein ': {'h': 0.2, '\\n': 0.6, 'n': 0.2}, 'i be': {'d': 1.0}, ' tim': {'e': 1.0}, 'apna': {' ': 1.0}, 'laye': {'g': 1.0}, 'x (2': {')': 1.0}, 'apni': {' ': 1.0}, ' \\nya': {'h': 1.0}, 'ahin': {' ': 1.0}, ' \\nye': {'h': 1.0}, 'zaro': {'o': 1.0}, 'me a': {'a': 1.0}, ' tal': {'a': 1.0}, 'b aa': {'d': 1.0}, 'hmat': {' ': 1.0}, 'n na': {'h': 1.0}, '\\ntu ': {'u': 0.2, 'n': 0.8}, 'ila ': {'p': 1.0}, 'adat': {' ': 1.0}, 'chah': {'a': 1.0}, 'h na': {'i': 0.6666666666666666, 'h': 0.3333333333333333}, 'kuch': {'h': 1.0}, 'iyan': {' ': 1.0}, 'i \\nu': {'t': 1.0}, 'zi k': {'i': 1.0}, 'rzi ': {'k': 1.0}, 'i \\np': {'h': 1.0}, 'i \\ns': {'h': 1.0}, 'i \\nz': {'a': 1.0}, 'auf ': {'n': 1.0}, '\\nhim': {'a': 1.0}, 'i \\na': {'a': 0.3333333333333333, 'u': 0.3333333333333333, 'd': 0.3333333333333333}, 'ss h': {'a': 1.0}, 'n \\n ': {' ': 1.0}, 'i \\nh': {'i': 1.0}, 'i \\nk': {'y': 1.0}, 'i \\nj': {'e': 0.5, 'o': 0.5}, 'd ki': {' ': 1.0}, 'dala': {'t': 1.0}, ' hai': {' ': 0.8888888888888888, 'r': 0.05555555555555555, ',': 0.05555555555555555}, 'ki m': {'e': 1.0}, 'imaa': {'k': 1.0}, 'a kh': {'u': 0.3333333333333333, 'w': 0.6666666666666666}, 'h pa': {'r': 1.0}, '\\ntuj': {'h': 1.0}, '\\nkya': {' ': 1.0}, '\\nkyo': {'n': 1.0}, ' hau': {'s': 1.0}, ' hat': {'h': 1.0}, ' har': {'k': 0.5, 'd': 0.5}, 'eri ': {'b': 1.0}, 'aaka': {'t': 1.0}, 'orat': {' ': 1.0}, 'one ': {'b': 1.0}, 'arr ': {'k': 1.0}, 'n \\np': {'a': 1.0}, 'bedi': {'y': 1.0}, 'aakh': {' ': 1.0}, 'kais': {'e': 1.0}, 'n \\nh': {'a': 1.0}, 'n \\nj': {'i': 1.0}, 'n \\nk': {'y': 1.0}, 'adal': {'a': 1.0}, 'i \\n ': {' ': 1.0}, 'time': {' ': 1.0}, 'ar..': {' ': 1.0}}\n"
     ]
    }
   ],
   "source": [
    "print(model)"
   ]
  },
  {
   "cell_type": "code",
   "execution_count": 8,
   "metadata": {},
   "outputs": [],
   "source": [
    "def sampling_next(ctx,T,k=4):\n",
    "    ctx=ctx[-k:]\n",
    "    if T.get(ctx) is None:\n",
    "        return \" \"\n",
    "    poss_chars=T[ctx].keys()\n",
    "    poss_values=T[ctx].values()\n",
    "    return np.random.choice(poss_chars,p=poss_values)"
   ]
  },
  {
   "cell_type": "code",
   "execution_count": 9,
   "metadata": {},
   "outputs": [],
   "source": [
    "def generate_text(starting_sent,k=4,Max_len=2000):\n",
    "        #for ix in range(Max_len):\n",
    "        sentence=starting_sent\n",
    "        ctx=starting_sent[-k:]\n",
    "        np.random.seed(11)\n",
    "        for ix in range(Max_len):\n",
    "            next_prediction=sampling_next(ctx,model)\n",
    "            sentence+=next_prediction\n",
    "            ctx=sentence[-k:]\n",
    "        return  sentence     \n",
    "    "
   ]
  },
  {
   "cell_type": "code",
   "execution_count": 10,
   "metadata": {},
   "outputs": [
    {
     "name": "stdout",
     "output_type": "stream",
     "text": [
      "apna time aayega \n",
      "apna time aayega \n",
      "  \n",
      "tu nanga hi to aayega \n",
      "apna time aayega \n",
      "aayega \n",
      "aisa koyi hai \n",
      "kya ghanta lekar.. \n",
      "  \n",
      "tu nanga hi to aayega \n",
      "apna toone boya hai jaisa shabdon ka jwala \n",
      "tu nanga hi to aayega \n",
      "jitni taakat ki hai \n",
      "  \n",
      "tu nanga hi to aaya hai \n",
      "kya tu ghanta lekar jaayega x (2) \n",
      "  \n",
      "ab hausle se \n",
      "matlab bana lala \n",
      "tu nanga hi to aaya hai tu \n",
      "utni rehmat mein \n",
      "jitna time aayega \n",
      "  \n",
      "yeh hai \n",
      "tere jaisa shaan pighlayega \n",
      "  \n",
      "tu nanga hi to aayega \n",
      "  \n",
      "tu udd ja ab jeenenge \n",
      "sab kaise tu \n",
      "utna hi to aayega \n",
      "apna toone boya hai \n",
      "kyon ki apni rehmat mein \n",
      "jitni rehmat nahin hai seene mein \n",
      "har raaste ko bhi sar par aayega \n",
      "apna time aaya khwaab hai \n",
      "kyon? \n",
      "  \n",
      "yeh hai \n",
      "  \n",
      "ab kuchh mil payega \n",
      "apna time aaya hath nahi hard’ch nai hai \n",
      "jeetne ki \n",
      "himaakat ki \n",
      "aayega \n",
      "kyon \n",
      "kya ghanta lekar jaayega \n",
      "  \n",
      "kissi ka hai jaisa mera khwaab \n",
      "ab hai \n",
      "zaroorat yahaana ab jeenenge \n",
      "hum kaamyabi chheene se \n",
      "matlab bana lala \n",
      "meri bediyan par aaya khwaab \n",
      "ab hai \n",
      "shohrat yeh shaanat ki \n",
      "aur jurrat ne hi to aayega \n",
      "  \n",
      "kya ghanta lekar jaayega \n",
      "  \n",
      "tu nanga hi barkat di hai seene se \n",
      "tujhe na mila paseene mein \n",
      "parwaaz dekh par aayega x (2) \n",
      "  \n",
      "ab khauf nahi hai \n",
      "tere bhai \n",
      "jo darr ko bhi sar par \n",
      "yahaan marzi ki \n",
      "aur jurrat nahi \n",
      "utna hi to aayega \n",
      "  \n",
      "tu nanga hi to aayega \n",
      "  \n",
      "tu nanga hi to aaya hai tu \n",
      "utni taakat ki ab talaash mein \n",
      "har raaste ko cheerenge \n",
      "sab khauf nahi to aayega \n",
      "kya ghanta lekar jaayega \n",
      "kya tu dafnayega \n",
      "apna time aayega \n",
      "aayega \n",
      "aasman bhi satayega \n",
      "apna toone boya hai \n",
      "kya ghanta lekar jaayega \n",
      "mere bhai \n",
      "jo darr ko cheerenge \n",
      "hum kaamyabi chahat ki mehnat se jeene mein \n",
      "parwaaz dekh par aayega \n",
      "mere jaisa koyi hai, aafat ki hai \n",
      "kya ghanta lekar jaayega \n",
      "  \n",
      "tujhe na mil payega \n",
      "apna time aayega \n",
      "apna time aayega \n",
      "  \n",
      "kissi ka hai \n",
      "jo darr ko cheerenge \n",
      "hum kaamyabi chheene mein hai \n",
      "kyon \n",
      "kya tu ghanta lekar jaayega \n",
      "apna time aayega apna time aayega \n",
      "apna time aayega \n",
      "jitna hi to khauf nahin hairat nahi hai \n",
      "shohrat ki hai \n",
      "jeetne ki \n",
      "aur jurrat ki\n"
     ]
    }
   ],
   "source": [
    "text_file=(generate_text(\"apna\"))\n",
    "print(text_file)"
   ]
  },
  {
   "cell_type": "code",
   "execution_count": 11,
   "metadata": {},
   "outputs": [],
   "source": [
    "file1=open('markovchainass.txt','w')\n",
    "file1.write(text_file)"
   ]
  }
 ],
 "metadata": {
  "kernelspec": {
   "display_name": "Python 3",
   "language": "python",
   "name": "python3"
  },
  "language_info": {
   "codemirror_mode": {
    "name": "ipython",
    "version": 2
   },
   "file_extension": ".py",
   "mimetype": "text/x-python",
   "name": "python",
   "nbconvert_exporter": "python",
   "pygments_lexer": "ipython2",
   "version": "2.7.12"
  }
 },
 "nbformat": 4,
 "nbformat_minor": 2
}
